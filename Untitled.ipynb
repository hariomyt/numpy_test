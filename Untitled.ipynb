{
 "cells": [
  {
   "cell_type": "markdown",
   "id": "6831ff0b-65a6-4c69-9148-61b16d9fe317",
   "metadata": {},
   "source": [
    "# numpy"
   ]
  },
  {
   "cell_type": "code",
   "execution_count": 1,
   "id": "7e546ae7-6d98-452e-8317-2fcda9b224b1",
   "metadata": {},
   "outputs": [],
   "source": [
    "import numpy  as np"
   ]
  },
  {
   "cell_type": "code",
   "execution_count": 2,
   "id": "cabdf23c-0cfd-4ec9-95e5-0fc99b12fa8c",
   "metadata": {},
   "outputs": [
    {
     "name": "stdout",
     "output_type": "stream",
     "text": [
      "hello world\n"
     ]
    }
   ],
   "source": [
    "print(\"hello world\")"
   ]
  },
  {
   "cell_type": "code",
   "execution_count": 3,
   "id": "cbe87287-56cd-4850-b380-539fbfe2e3a1",
   "metadata": {},
   "outputs": [],
   "source": [
    "myarr=np.array([6,7,99,7])"
   ]
  },
  {
   "cell_type": "code",
   "execution_count": 4,
   "id": "33e95611-999a-4576-88c7-f98c5d4681a7",
   "metadata": {},
   "outputs": [
    {
     "data": {
      "text/plain": [
       "array([ 6,  7, 99,  7])"
      ]
     },
     "execution_count": 4,
     "metadata": {},
     "output_type": "execute_result"
    }
   ],
   "source": [
    "myarr"
   ]
  },
  {
   "cell_type": "code",
   "execution_count": 5,
   "id": "cd98e207-4cf9-41c8-9ea5-828287ba2d93",
   "metadata": {},
   "outputs": [
    {
     "data": {
      "text/plain": [
       "np.int64(99)"
      ]
     },
     "execution_count": 5,
     "metadata": {},
     "output_type": "execute_result"
    }
   ],
   "source": [
    "myarr[2]"
   ]
  },
  {
   "cell_type": "code",
   "execution_count": 6,
   "id": "7dedab23-270c-4cf8-bc38-c68d36143507",
   "metadata": {},
   "outputs": [
    {
     "data": {
      "text/plain": [
       "(4,)"
      ]
     },
     "execution_count": 6,
     "metadata": {},
     "output_type": "execute_result"
    }
   ],
   "source": [
    "myarr.shape"
   ]
  },
  {
   "cell_type": "code",
   "execution_count": 7,
   "id": "c590748e-ffbb-487d-8938-95cdf0b5b568",
   "metadata": {},
   "outputs": [
    {
     "data": {
      "text/plain": [
       "dtype('int64')"
      ]
     },
     "execution_count": 7,
     "metadata": {},
     "output_type": "execute_result"
    }
   ],
   "source": [
    "myarr.dtype"
   ]
  },
  {
   "cell_type": "markdown",
   "id": "dd85e0db-fadd-49c2-b679-60e7e4d7fc56",
   "metadata": {},
   "source": [
    "# Array Creation :Conversion from other Python Structres"
   ]
  },
  {
   "cell_type": "code",
   "execution_count": 8,
   "id": "242b16d5-8cab-4db1-ad59-1c31ba47b969",
   "metadata": {},
   "outputs": [],
   "source": [
    "listarray=np.array([[23,44,5,5],[34,56,5,64],[45,67,56,46]])"
   ]
  },
  {
   "cell_type": "code",
   "execution_count": 9,
   "id": "196cc7aa-c04c-4ed6-bcf2-037ffec8466b",
   "metadata": {},
   "outputs": [
    {
     "data": {
      "text/plain": [
       "array([[23, 44,  5,  5],\n",
       "       [34, 56,  5, 64],\n",
       "       [45, 67, 56, 46]])"
      ]
     },
     "execution_count": 9,
     "metadata": {},
     "output_type": "execute_result"
    }
   ],
   "source": [
    "listarray"
   ]
  },
  {
   "cell_type": "code",
   "execution_count": 10,
   "id": "c68b9a2f-8d92-46b0-8a56-40ef9d663215",
   "metadata": {},
   "outputs": [
    {
     "data": {
      "text/plain": [
       "dtype('int64')"
      ]
     },
     "execution_count": 10,
     "metadata": {},
     "output_type": "execute_result"
    }
   ],
   "source": [
    "listarray.dtype"
   ]
  },
  {
   "cell_type": "code",
   "execution_count": 11,
   "id": "e10991ab-422d-4408-9c87-f36dd8386d78",
   "metadata": {},
   "outputs": [
    {
     "data": {
      "text/plain": [
       "12"
      ]
     },
     "execution_count": 11,
     "metadata": {},
     "output_type": "execute_result"
    }
   ],
   "source": [
    "listarray.size"
   ]
  },
  {
   "cell_type": "code",
   "execution_count": 12,
   "id": "3e571bfc-8339-4937-b496-c3786c053b69",
   "metadata": {},
   "outputs": [
    {
     "data": {
      "text/plain": [
       "(3, 4)"
      ]
     },
     "execution_count": 12,
     "metadata": {},
     "output_type": "execute_result"
    }
   ],
   "source": [
    "listarray.shape"
   ]
  },
  {
   "cell_type": "code",
   "execution_count": 13,
   "id": "53a08df7-9c98-464b-932a-a7b66dd00205",
   "metadata": {},
   "outputs": [],
   "source": [
    "zeros=np.zeros((10,5))"
   ]
  },
  {
   "cell_type": "code",
   "execution_count": 14,
   "id": "b8320ad7-349e-4c17-8652-e6266be66e65",
   "metadata": {},
   "outputs": [
    {
     "data": {
      "text/plain": [
       "array([[0., 0., 0., 0., 0.],\n",
       "       [0., 0., 0., 0., 0.],\n",
       "       [0., 0., 0., 0., 0.],\n",
       "       [0., 0., 0., 0., 0.],\n",
       "       [0., 0., 0., 0., 0.],\n",
       "       [0., 0., 0., 0., 0.],\n",
       "       [0., 0., 0., 0., 0.],\n",
       "       [0., 0., 0., 0., 0.],\n",
       "       [0., 0., 0., 0., 0.],\n",
       "       [0., 0., 0., 0., 0.]])"
      ]
     },
     "execution_count": 14,
     "metadata": {},
     "output_type": "execute_result"
    }
   ],
   "source": [
    "zeros"
   ]
  },
  {
   "cell_type": "code",
   "execution_count": 15,
   "id": "c3dfb7ff-9032-4963-9949-d07397e07be5",
   "metadata": {},
   "outputs": [
    {
     "data": {
      "text/plain": [
       "dtype('float64')"
      ]
     },
     "execution_count": 15,
     "metadata": {},
     "output_type": "execute_result"
    }
   ],
   "source": [
    "zeros.dtype"
   ]
  },
  {
   "cell_type": "code",
   "execution_count": 16,
   "id": "b3e74d10-059b-4697-b19c-ee6dd7d0159a",
   "metadata": {},
   "outputs": [
    {
     "data": {
      "text/plain": [
       "50"
      ]
     },
     "execution_count": 16,
     "metadata": {},
     "output_type": "execute_result"
    }
   ],
   "source": [
    "zeros.size"
   ]
  },
  {
   "cell_type": "code",
   "execution_count": 17,
   "id": "e4e28a1e-ebf8-4748-a769-69b9bcc1c6c2",
   "metadata": {},
   "outputs": [],
   "source": [
    "rng=np.arange(100)"
   ]
  },
  {
   "cell_type": "code",
   "execution_count": 18,
   "id": "27a313a3-47c9-4622-9368-ae6dc2a74192",
   "metadata": {},
   "outputs": [
    {
     "data": {
      "text/plain": [
       "array([ 0,  1,  2,  3,  4,  5,  6,  7,  8,  9, 10, 11, 12, 13, 14, 15, 16,\n",
       "       17, 18, 19, 20, 21, 22, 23, 24, 25, 26, 27, 28, 29, 30, 31, 32, 33,\n",
       "       34, 35, 36, 37, 38, 39, 40, 41, 42, 43, 44, 45, 46, 47, 48, 49, 50,\n",
       "       51, 52, 53, 54, 55, 56, 57, 58, 59, 60, 61, 62, 63, 64, 65, 66, 67,\n",
       "       68, 69, 70, 71, 72, 73, 74, 75, 76, 77, 78, 79, 80, 81, 82, 83, 84,\n",
       "       85, 86, 87, 88, 89, 90, 91, 92, 93, 94, 95, 96, 97, 98, 99])"
      ]
     },
     "execution_count": 18,
     "metadata": {},
     "output_type": "execute_result"
    }
   ],
   "source": [
    "rng"
   ]
  },
  {
   "cell_type": "code",
   "execution_count": 19,
   "id": "67a4d0e7-2fb9-4170-acf1-d0395dd97d06",
   "metadata": {},
   "outputs": [],
   "source": [
    "lspace=np.linspace(1,5,19)"
   ]
  },
  {
   "cell_type": "code",
   "execution_count": 20,
   "id": "35242a37-9939-4b03-b082-c2f13d7fea5c",
   "metadata": {},
   "outputs": [
    {
     "data": {
      "text/plain": [
       "array([1.        , 1.22222222, 1.44444444, 1.66666667, 1.88888889,\n",
       "       2.11111111, 2.33333333, 2.55555556, 2.77777778, 3.        ,\n",
       "       3.22222222, 3.44444444, 3.66666667, 3.88888889, 4.11111111,\n",
       "       4.33333333, 4.55555556, 4.77777778, 5.        ])"
      ]
     },
     "execution_count": 20,
     "metadata": {},
     "output_type": "execute_result"
    }
   ],
   "source": [
    "lspace"
   ]
  },
  {
   "cell_type": "code",
   "execution_count": 21,
   "id": "69173d9f-4ece-4c4e-9df4-29d19c0577e5",
   "metadata": {},
   "outputs": [],
   "source": [
    "emp=np.empty((4,8))"
   ]
  },
  {
   "cell_type": "code",
   "execution_count": 22,
   "id": "0337ed7d-7966-4d2b-9e65-b6463e50e80a",
   "metadata": {},
   "outputs": [
    {
     "data": {
      "text/plain": [
       "array([[1.12706786e-311, 1.05730048e-321, 0.00000000e+000,\n",
       "        0.00000000e+000, 1.89146896e-307, 5.02034658e+175,\n",
       "        9.30987038e+165, 3.24790203e-057],\n",
       "       [6.82245011e-038, 3.13999508e-032, 2.23132468e-052,\n",
       "        4.26398302e-096, 1.12855837e+277, 8.93168725e+271,\n",
       "        7.33723594e+223, 1.70098498e+256],\n",
       "       [5.49109388e-143, 1.06396443e+224, 3.96041428e+246,\n",
       "        1.16318408e-028, 3.15550940e-033, 1.00535807e-070,\n",
       "        3.93208854e-061, 1.22221814e+165],\n",
       "       [2.24151504e+174, 3.36163259e-067, 5.41833024e-067,\n",
       "        3.05546899e-028, 4.08071749e-033, 5.74015544e+180,\n",
       "        1.94919988e-153, 8.47997984e-308]])"
      ]
     },
     "execution_count": 22,
     "metadata": {},
     "output_type": "execute_result"
    }
   ],
   "source": [
    "emp"
   ]
  },
  {
   "cell_type": "code",
   "execution_count": 23,
   "id": "f6ec94b4-f339-4cfd-aceb-00c99ff7795e",
   "metadata": {},
   "outputs": [],
   "source": [
    "ide=np.identity(56)"
   ]
  },
  {
   "cell_type": "code",
   "execution_count": 24,
   "id": "a63cd8b6-c0c1-4f2e-8bf7-08a01115bd8a",
   "metadata": {},
   "outputs": [
    {
     "data": {
      "text/plain": [
       "array([[1., 0., 0., ..., 0., 0., 0.],\n",
       "       [0., 1., 0., ..., 0., 0., 0.],\n",
       "       [0., 0., 1., ..., 0., 0., 0.],\n",
       "       ...,\n",
       "       [0., 0., 0., ..., 1., 0., 0.],\n",
       "       [0., 0., 0., ..., 0., 1., 0.],\n",
       "       [0., 0., 0., ..., 0., 0., 1.]], shape=(56, 56))"
      ]
     },
     "execution_count": 24,
     "metadata": {},
     "output_type": "execute_result"
    }
   ],
   "source": [
    "ide"
   ]
  },
  {
   "cell_type": "code",
   "execution_count": 25,
   "id": "ae769354-9091-474e-a363-02c04a88f78e",
   "metadata": {},
   "outputs": [],
   "source": [
    "x=[[12,3,4,5,],[4,6,3,7],[3,6,8,9]]\n",
    "ar=np.array(x)\n"
   ]
  },
  {
   "cell_type": "code",
   "execution_count": 26,
   "id": "cbfaf81d-cd22-4b46-a570-22a737c1a6a1",
   "metadata": {},
   "outputs": [
    {
     "data": {
      "text/plain": [
       "array([[12,  3,  4,  5],\n",
       "       [ 4,  6,  3,  7],\n",
       "       [ 3,  6,  8,  9]])"
      ]
     },
     "execution_count": 26,
     "metadata": {},
     "output_type": "execute_result"
    }
   ],
   "source": [
    "ar"
   ]
  },
  {
   "cell_type": "code",
   "execution_count": 27,
   "id": "ace9216c-4c0b-4fba-bf7b-ac264902a6c9",
   "metadata": {},
   "outputs": [
    {
     "data": {
      "text/plain": [
       "array([19, 15, 15, 21])"
      ]
     },
     "execution_count": 27,
     "metadata": {},
     "output_type": "execute_result"
    }
   ],
   "source": [
    "ar.sum(axis=0)"
   ]
  },
  {
   "cell_type": "code",
   "execution_count": 28,
   "id": "1593f0a2-7067-4ca7-9739-fa36912465d4",
   "metadata": {},
   "outputs": [
    {
     "data": {
      "text/plain": [
       "array([24, 20, 26])"
      ]
     },
     "execution_count": 28,
     "metadata": {},
     "output_type": "execute_result"
    }
   ],
   "source": [
    "ar.sum(axis=1)"
   ]
  },
  {
   "cell_type": "code",
   "execution_count": 29,
   "id": "af918c2b-5be6-4367-a7f4-4674c4b6be27",
   "metadata": {},
   "outputs": [
    {
     "data": {
      "text/plain": [
       "array([[12,  4,  3],\n",
       "       [ 3,  6,  6],\n",
       "       [ 4,  3,  8],\n",
       "       [ 5,  7,  9]])"
      ]
     },
     "execution_count": 29,
     "metadata": {},
     "output_type": "execute_result"
    }
   ],
   "source": [
    "ar.T"
   ]
  },
  {
   "cell_type": "code",
   "execution_count": 30,
   "id": "56c129d9-6e8a-49b1-a100-72014c5081e8",
   "metadata": {},
   "outputs": [
    {
     "data": {
      "text/plain": [
       "<numpy.flatiter at 0x21323106630>"
      ]
     },
     "execution_count": 30,
     "metadata": {},
     "output_type": "execute_result"
    }
   ],
   "source": [
    "ar.flat"
   ]
  },
  {
   "cell_type": "code",
   "execution_count": 31,
   "id": "4309966d-8809-40c9-83e1-d101b17027fc",
   "metadata": {},
   "outputs": [
    {
     "name": "stdout",
     "output_type": "stream",
     "text": [
      "12\n",
      "3\n",
      "4\n",
      "5\n",
      "4\n",
      "6\n",
      "3\n",
      "7\n",
      "3\n",
      "6\n",
      "8\n",
      "9\n"
     ]
    }
   ],
   "source": [
    "for item in ar.flat:\n",
    "    print(item)"
   ]
  },
  {
   "cell_type": "code",
   "execution_count": 32,
   "id": "7f78f7aa-d977-40c1-8c87-473b4152396d",
   "metadata": {},
   "outputs": [
    {
     "data": {
      "text/plain": [
       "12"
      ]
     },
     "execution_count": 32,
     "metadata": {},
     "output_type": "execute_result"
    }
   ],
   "source": [
    "ar.size"
   ]
  },
  {
   "cell_type": "code",
   "execution_count": 33,
   "id": "ca7ebe87-4dd8-4f22-8a31-6ec6f962387b",
   "metadata": {},
   "outputs": [
    {
     "data": {
      "text/plain": [
       "96"
      ]
     },
     "execution_count": 33,
     "metadata": {},
     "output_type": "execute_result"
    }
   ],
   "source": [
    "ar.nbytes"
   ]
  },
  {
   "cell_type": "code",
   "execution_count": null,
   "id": "cbf1e473-dca3-4099-a3d5-d91b9db4e8b9",
   "metadata": {},
   "outputs": [],
   "source": []
  }
 ],
 "metadata": {
  "kernelspec": {
   "display_name": "Python 3 (ipykernel)",
   "language": "python",
   "name": "python3"
  },
  "language_info": {
   "codemirror_mode": {
    "name": "ipython",
    "version": 3
   },
   "file_extension": ".py",
   "mimetype": "text/x-python",
   "name": "python",
   "nbconvert_exporter": "python",
   "pygments_lexer": "ipython3",
   "version": "3.12.6"
  }
 },
 "nbformat": 4,
 "nbformat_minor": 5
}
